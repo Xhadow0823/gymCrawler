{
 "cells": [
  {
   "cell_type": "code",
   "execution_count": 1,
   "metadata": {},
   "outputs": [],
   "source": [
    "import requests\n",
    "import time\n",
    "import csv"
   ]
  },
  {
   "cell_type": "code",
   "execution_count": 10,
   "metadata": {},
   "outputs": [],
   "source": [
    "def lognum():\n",
    "    re = requests.post('https://tccsc.cyc.org.tw/api')\n",
    "    ts = time.ctime()\n",
    "    if re.status_code != requests.codes.ok:\n",
    "        exit()\n",
    "    row = [re.json()['gym'][0], \n",
    "           re.json()['swim'][0],\n",
    "           re.json()['ice'][0],\n",
    "           ts]\n",
    "    # print(row)\n",
    "    return row"
   ]
  },
  {
   "cell_type": "code",
   "execution_count": 11,
   "metadata": {},
   "outputs": [
    {
     "output_type": "execute_result",
     "data": {
      "text/plain": [
       "['0', '0', '0', 'Thu May 13 14:26:32 2021']"
      ]
     },
     "metadata": {},
     "execution_count": 11
    }
   ],
   "source": [
    "lognum()"
   ]
  },
  {
   "cell_type": "code",
   "execution_count": 4,
   "metadata": {},
   "outputs": [],
   "source": [
    "fh = open('log.csv', 'a', newline='')\n",
    "writer = csv.writer(fh)"
   ]
  },
  {
   "cell_type": "code",
   "execution_count": 5,
   "metadata": {},
   "outputs": [
    {
     "output_type": "execute_result",
     "data": {
      "text/plain": [
       "17"
      ]
     },
     "metadata": {},
     "execution_count": 5
    }
   ],
   "source": [
    "writer.writerow(['tt1', 'tt2', 'tt3', 'end'])"
   ]
  },
  {
   "cell_type": "code",
   "execution_count": 6,
   "metadata": {},
   "outputs": [
    {
     "output_type": "execute_result",
     "data": {
      "text/plain": [
       "13"
      ]
     },
     "metadata": {},
     "execution_count": 6
    }
   ],
   "source": [
    "writer.writerow([12, 15, 17, 18])"
   ]
  },
  {
   "cell_type": "code",
   "execution_count": 7,
   "metadata": {},
   "outputs": [],
   "source": [
    "fh.close()"
   ]
  },
  {
   "cell_type": "code",
   "execution_count": 9,
   "metadata": {},
   "outputs": [
    {
     "output_type": "stream",
     "name": "stdout",
     "text": [
      "C:\\Users\\eric8\\Desktop\\VSC_Py\\gymCrawler\n"
     ]
    },
    {
     "output_type": "execute_result",
     "data": {
      "text/plain": [
       "'C:\\\\Users\\\\eric8\\\\Desktop\\\\VSC_Py\\\\gymCrawler'"
      ]
     },
     "metadata": {},
     "execution_count": 9
    }
   ],
   "source": [
    "%pwd\n",
    "%cd Desktop/VSC_Py/gymCrawler/\n",
    "%pwd"
   ]
  },
  {
   "cell_type": "code",
   "execution_count": 13,
   "metadata": {},
   "outputs": [],
   "source": [
    "fh = open('log.csv', 'a', newline='')\n",
    "writer = csv.writer(fh)\n",
    "writer.writerow(lognum())\n",
    "fh.close()"
   ]
  },
  {
   "cell_type": "code",
   "execution_count": null,
   "metadata": {},
   "outputs": [],
   "source": []
  }
 ],
 "metadata": {
  "kernelspec": {
   "display_name": "Python 3",
   "language": "python",
   "name": "python3"
  }
 },
 "nbformat": 4,
 "nbformat_minor": 2
}